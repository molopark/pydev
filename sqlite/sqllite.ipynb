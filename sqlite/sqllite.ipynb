{
 "cells": [
  {
   "cell_type": "code",
   "execution_count": 10,
   "metadata": {},
   "outputs": [
    {
     "ename": "IntegrityError",
     "evalue": "UNIQUE constraint failed: user.id",
     "output_type": "error",
     "traceback": [
      "\u001b[1;31m---------------------------------------------------------------------------\u001b[0m",
      "\u001b[1;31mIntegrityError\u001b[0m                            Traceback (most recent call last)",
      "\u001b[1;32mc:\\molowork\\pydev\\sqlite\\sqllite.ipynb Cell 1'\u001b[0m in \u001b[0;36m<cell line: 16>\u001b[1;34m()\u001b[0m\n\u001b[0;32m     <a href='vscode-notebook-cell:/c%3A/molowork/pydev/sqlite/sqllite.ipynb#ch0000000?line=12'>13</a>\u001b[0m nowDatetime \u001b[39m=\u001b[39m now\u001b[39m.\u001b[39mstrftime(\u001b[39m'\u001b[39m\u001b[39m%\u001b[39m\u001b[39mY-\u001b[39m\u001b[39m%\u001b[39m\u001b[39mm-\u001b[39m\u001b[39m%d\u001b[39;00m\u001b[39m \u001b[39m\u001b[39m%\u001b[39m\u001b[39mH:\u001b[39m\u001b[39m%\u001b[39m\u001b[39mM:\u001b[39m\u001b[39m%\u001b[39m\u001b[39mS\u001b[39m\u001b[39m'\u001b[39m)\n\u001b[0;32m     <a href='vscode-notebook-cell:/c%3A/molowork/pydev/sqlite/sqllite.ipynb#ch0000000?line=14'>15</a>\u001b[0m \u001b[39m#  데이터 입력\u001b[39;00m\n\u001b[1;32m---> <a href='vscode-notebook-cell:/c%3A/molowork/pydev/sqlite/sqllite.ipynb#ch0000000?line=15'>16</a>\u001b[0m data\u001b[39m.\u001b[39;49mexecute(\u001b[39m\"\u001b[39;49m\u001b[39minsert into user values( 3, \u001b[39;49m\u001b[39m'\u001b[39;49m\u001b[39mkim3\u001b[39;49m\u001b[39m'\u001b[39;49m\u001b[39m, \u001b[39;49m\u001b[39m'\u001b[39;49m\u001b[39mkim@.com\u001b[39;49m\u001b[39m'\u001b[39;49m\u001b[39m,\u001b[39;49m\u001b[39m'\u001b[39;49m\u001b[39m010-0000-0000\u001b[39;49m\u001b[39m'\u001b[39;49m\u001b[39m,\u001b[39;49m\u001b[39m'\u001b[39;49m\u001b[39mwww.com\u001b[39;49m\u001b[39m'\u001b[39;49m\u001b[39m,?)\u001b[39;49m\u001b[39m\"\u001b[39;49m, (nowDatetime,))\n\u001b[0;32m     <a href='vscode-notebook-cell:/c%3A/molowork/pydev/sqlite/sqllite.ipynb#ch0000000?line=17'>18</a>\u001b[0m \u001b[39m# 데이터 조회\u001b[39;00m\n\u001b[0;32m     <a href='vscode-notebook-cell:/c%3A/molowork/pydev/sqlite/sqllite.ipynb#ch0000000?line=18'>19</a>\u001b[0m seldata \u001b[39m=\u001b[39m data\u001b[39m.\u001b[39mexecute(\u001b[39m\"\u001b[39m\u001b[39mselect * from user\u001b[39m\u001b[39m\"\u001b[39m)\n",
      "\u001b[1;31mIntegrityError\u001b[0m: UNIQUE constraint failed: user.id"
     ]
    }
   ],
   "source": [
    "import sqlite3\n",
    "import datetime\n",
    "\n",
    "# db 생성\n",
    "make_db = sqlite3.connect('./tdb.db',isolation_level=None)\n",
    "\n",
    "data = make_db.cursor()\n",
    "\n",
    "#  테이블 생성\n",
    "data.execute(\"create table if not exists user(id integer primary key, username text, email text, phone text, wetsite text, regdate text)\")\n",
    "\n",
    "now = datetime.datetime.now()\n",
    "nowDatetime = now.strftime('%Y-%m-%d %H:%M:%S')\n",
    "\n",
    "#  데이터 입력\n",
    "data.execute(\"insert into user values( 3, 'kim3', 'kim@.com','010-0000-0000','www.com',?)\", (nowDatetime,))\n",
    "\n",
    "# 데이터 조회\n",
    "seldata = data.execute(\"select * from user\")\n",
    "\n",
    "print(seldata)"
   ]
  }
 ],
 "metadata": {
  "interpreter": {
   "hash": "3ad7a79b48397a2c7298da0b944d557eaddda4f5e3f1e06c498699d8de338ff9"
  },
  "kernelspec": {
   "display_name": "Python 3.10.2 64-bit",
   "language": "python",
   "name": "python3"
  },
  "language_info": {
   "codemirror_mode": {
    "name": "ipython",
    "version": 3
   },
   "file_extension": ".py",
   "mimetype": "text/x-python",
   "name": "python",
   "nbconvert_exporter": "python",
   "pygments_lexer": "ipython3",
   "version": "3.10.2"
  },
  "orig_nbformat": 4
 },
 "nbformat": 4,
 "nbformat_minor": 2
}
